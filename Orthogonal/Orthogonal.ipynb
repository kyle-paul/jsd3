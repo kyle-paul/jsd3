{
  "nbformat": 4,
  "nbformat_minor": 0,
  "metadata": {
    "colab": {
      "provenance": [],
      "toc_visible": true
    },
    "kernelspec": {
      "name": "python3",
      "display_name": "Python 3"
    },
    "language_info": {
      "name": "python"
    }
  },
  "cells": [
    {
      "cell_type": "markdown",
      "source": [
        "## **Math Formulation and Principles**\n",
        "**Orthornomral basis** \\\\\n",
        "Set of vectors in the basis $U = \\{u_1, u_2, \\dots, u_n\\}$. This $U$ basis can be called orthonormal basis if each vector in $U$ is orthogonal to each other $u_i.u_j = 0$ and the length of each vector is $\\|u_i\\| = 1$. All vectors in $U$ are linearly independent. \\\\\n",
        "* Prove why they have to be linearly independent. \\\\\n",
        " Assume they are linearly dependent, then we have $u_i = z u_j$ with $z$ is a scalar. We also have $u_i . u_j = 0 \\rightarrow z u_j . u_j = 0 \\rightarrow \\|u_j\\|=0$ which is illogical since $\\| u_j \\|$ must be $1$.\n",
        "\n",
        "**Standard unit orthonormal basis** \\\\\n",
        "The standard orthonormal basis in space $R^n$ can be represented as:\n",
        "$$\n",
        "\\begin{bmatrix} 1 \\\\ 0 \\\\ \\vdots \\\\ 0 \\end{bmatrix}\n",
        "\\begin{bmatrix} 0 \\\\ 1 \\\\ \\vdots \\\\ 0 \\end{bmatrix}\n",
        "\\dots\n",
        "\\begin{bmatrix} 0 \\\\ 0 \\\\ \\vdots \\\\ 1 \\end{bmatrix}\n",
        "$$\n",
        "\n",
        "This is the set of vectors $e_1, e_2, \\dots, e_n$ where each vector $e_i$ has only one element $e_{ij} \\neq 0 | i=j$. If this basis is represented as a matrix $S$, then $S$ is the diagonal matrix. The coordiante vector $x = [x_1, x_2, \\dots, x_n]$ is presented in this unit standard orthonormal basis as: $x = x_1 e_1 + x_2 e_2 + \\dots + x_n e_n$.\n",
        "\n",
        "**New representation in new orthornmal basis** \\\\\n",
        "In the subspace of $V \\in R^n$, we have an basis $U = \\{u_1, u_2, \\dots, u_n\\}$ and vector $x \\in V$. We know that a vector $x$ can be represented by the linear combination of all vector $u_i$ in basis $U$ as:\n",
        "\n",
        "$$\n",
        "x = z_1 u_1 + z_2 + u_2 + \\dots + z_3 u_3\n",
        "$$\n",
        "\n",
        "This can be represented in matrix multiplication form as:\n",
        "$$\n",
        "\\begin{bmatrix}\n",
        "x_1 \\\\ x_2 \\\\ \\vdots \\\\ x_n\n",
        "\\end{bmatrix} =\n",
        "\\begin{bmatrix}\n",
        "u_{11} & u_{21} & \\dots & u_{n1} \\\\\n",
        "u_{12} & u_{22} & \\dots & u_{n2} \\\\\n",
        "\\vdots & \\vdots & \\ddots & \\vdots \\\\\n",
        "u_{1n} & u_{2n} & \\dots & u_{nn} \\\\\n",
        "\\end{bmatrix} \\cdot\n",
        "\\begin{bmatrix}\n",
        "z_1 \\\\ z_2 \\\\ \\vdots \\\\ z_n\n",
        "\\end{bmatrix}\n",
        "$$\n",
        "\n",
        "The vector $z = [z_1, z_2, \\dots, z_n]$ is the new coordinate vector with respect to the orthonormal basis $U$, while the $x$ is the coordinate vector with respect to the standard orthonormal basis $S$. So we can say that $x = U \\cdot z$. If $U$ is the invertible matrix (square matrix and $\\text{det}(U) \\neq 0$, the vector $z$ can be found by: $U^{-1} x = U^{-1}  U z \\rightarrow z = U^T x$ since $U^{-1} = U^T$ if $U$ is invertible. \\\\\n",
        "\n",
        "But what if $U$ is not invertible? There is another way to find $z_i$ easier. As $x$ can be represented as:\n",
        "$$\n",
        "x = z_1 u_1 + \\dots + z_i u_i + \\dots+ z_3 u_3\n",
        "$$\n",
        "\n",
        "Then we dot both sides with $u_i$, then we have:\n",
        "$$\n",
        "u_i x = z_1 u_i u_1 + \\dots + z_i u_i u_i + \\dots+ z_3 u_i u_3\n",
        "$$\n",
        "\n",
        "So, we have $u_i x = z_i$ because $u_i \\cdot u_j = 0 | \\forall i \\neq j$ and $u_i \\dots u_i = \\| u_i \\| ^2 = 1$, . Therefore we get:\n",
        "$$\n",
        "z = \\begin{bmatrix}\n",
        "z_1 \\\\ z_2 \\\\ \\vdots \\\\ z_3\n",
        "\\end{bmatrix} =\n",
        "\\begin{bmatrix}\n",
        "u_1 x \\\\ u_2 x \\\\ \\vdots \\\\ u_n x\n",
        "\\end{bmatrix}\n",
        "$$\n",
        "\n",
        "**Orthonormal matrix $U$ corresponds to a rotation** \\\\\n",
        "We already have $x = Uz$. We need to prove that when mutipling a matrix $U$ with a vector $z$, it does not distort that vector $z$, which means the length and angle of $z$ are preserved. Or we try to prove that $\\|z \\| = \\| U z \\|$. Remember we have to tranpose the matrix/vector before the dot operation happens:\n",
        "$$\n",
        "\\| U z \\|^2 = Uz \\cdot Uz = (Uz)^T \\cdot Uz = z^T U^T  Uz = z^T I z = z^T z = \\|z\\|^2\n",
        "$$\n",
        "\n",
        "Next, assume that we have vector $w$ as origin vector. Then we have to prove that $cos(z, w) = cos(Uz, Uw)$:\n",
        "\n",
        "$$\n",
        "cos(Uz, Uw) = \\frac { (Uz)^T (Uw) } { \\|Uz\\| \\|Uw \\| } = \\frac{z w} {\\| z \\|  \\| w \\|}\n",
        "$$\n",
        "\n",
        "To conclude, the change of bases with orthogonal matrices does not distort vectors (length of each and angle between them are the same), but it just rotate the basis $\\rightarrow$ rotation operation."
      ],
      "metadata": {
        "id": "vnDhJi5OBQOC"
      }
    },
    {
      "cell_type": "markdown",
      "source": [
        "## **Visualization**"
      ],
      "metadata": {
        "id": "SY7qrmTi-4Ob"
      }
    },
    {
      "cell_type": "code",
      "source": [
        "import numpy as np\n",
        "from IPython.display import IFrame"
      ],
      "metadata": {
        "id": "pqCZIT5LTitf"
      },
      "execution_count": null,
      "outputs": []
    },
    {
      "cell_type": "code",
      "source": [
        "IFrame(src=\"https://www.geogebra.org/calculator/ckjdz5gk\", width=1000, height=600)"
      ],
      "metadata": {
        "colab": {
          "base_uri": "https://localhost:8080/",
          "height": 621
        },
        "id": "O6JoKP4jZr3D",
        "outputId": "37b05a3f-d37b-4abc-c316-e2ae2d24eae8"
      },
      "execution_count": null,
      "outputs": [
        {
          "output_type": "execute_result",
          "data": {
            "text/plain": [
              "<IPython.lib.display.IFrame at 0x7c52b1fa6dd0>"
            ],
            "text/html": [
              "\n",
              "        <iframe\n",
              "            width=\"1000\"\n",
              "            height=\"600\"\n",
              "            src=\"https://www.geogebra.org/calculator/ckjdz5gk\"\n",
              "            frameborder=\"0\"\n",
              "            allowfullscreen\n",
              "            \n",
              "        ></iframe>\n",
              "        "
            ]
          },
          "metadata": {},
          "execution_count": 32
        }
      ]
    },
    {
      "cell_type": "code",
      "execution_count": null,
      "metadata": {
        "id": "P-GEvh15anEW"
      },
      "outputs": [],
      "source": [
        "# Example in R^2\n",
        "\n",
        "# Standard unit basis\n",
        "S = np.array([\n",
        "    [1, 0],\n",
        "    [0, 1]\n",
        "])\n",
        "\n",
        "x = np.array([1/2, 3])"
      ]
    },
    {
      "cell_type": "code",
      "source": [
        "U = np.array([\n",
        "    [3/5, 4/5],\n",
        "    [-4/5, 3/5]\n",
        "])\n",
        "def distance(a):\n",
        "  return (a[0]**2 + a[1]**2)**(1/2)\n",
        "\n",
        "# Check conditions\n",
        "print(distance(U[0]))\n",
        "print(distance(U[1]))\n",
        "print(U[0] @ U[1])    # orthogonal\n",
        "\n",
        "# Find new coordinate vector z if change basis from S to U\n",
        "# Way 1: if U is invertible\n",
        "z = x @ U.T\n",
        "print(z)\n",
        "\n",
        "# Way 2: more generable way\n",
        "z = np.array([0.0, 0.0])\n",
        "z[0] = U[0] @ x\n",
        "z[1] = U[1] @ x\n",
        "print(z)"
      ],
      "metadata": {
        "colab": {
          "base_uri": "https://localhost:8080/"
        },
        "id": "LiBKgg3cT8rq",
        "outputId": "dda5e07a-b492-4d95-8b72-737af67e594f"
      },
      "execution_count": null,
      "outputs": [
        {
          "output_type": "stream",
          "name": "stdout",
          "text": [
            "1.0\n",
            "1.0\n",
            "0.0\n",
            "[2.7 1.4]\n",
            "[2.7 1.4]\n"
          ]
        }
      ]
    }
  ]
}